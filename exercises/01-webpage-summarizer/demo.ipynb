{
 "cells": [
  {
   "cell_type": "code",
   "execution_count": 5,
   "id": "7dd9d584",
   "metadata": {},
   "outputs": [
    {
     "name": "stdout",
     "output_type": "stream",
     "text": [
      "c:\\Users\\Halimeh\\OneDrive\\Documents\\llm-engineering-exercises\\exercises\\01-webpage-summarizer\n"
     ]
    }
   ],
   "source": [
    "import os\n",
    "import sys\n",
    "print(os.getcwd())"
   ]
  },
  {
   "cell_type": "code",
   "execution_count": 6,
   "id": "6ba33e1e",
   "metadata": {},
   "outputs": [],
   "source": [
    "sys.path.append(os.path.abspath(os.path.dirname(\"__file__\")))\n",
    "\n",
    "from website import summarize_url\n",
    "from IPython.display import Markdown, display\n"
   ]
  },
  {
   "cell_type": "code",
   "execution_count": 7,
   "id": "ce577133",
   "metadata": {},
   "outputs": [
    {
     "data": {
      "text/markdown": [
       "# CNN Summary\n",
       "\n",
       "## Key Headlines\n",
       "- **James Comey Indictment**: Former FBI Director James Comey faces indictment, raising questions about the implications for dissent in the U.S. A video message from Comey following the indictment has been released.\n",
       "- **Trump's Tariffs**: President Trump announced new tariffs, including a 100% tariff on some imported drugs and a 25% tariff on trucks, effective October 1.\n",
       "- **Human Evolution**: A newly unearthed skull in China challenges existing timelines of human evolution.\n",
       "- **2026 World Cup**: FIFA has unveiled the mascots for the upcoming World Cup.\n",
       "\n",
       "## Notable News\n",
       "- **Gaza Conflict**: A teenage medical evacuee from Gaza shares harrowing experiences amid the ongoing conflict, while a senior Hamas official defends the high cost of the October 7 attack.\n",
       "- **Starbucks Closures**: The company has announced significant store closures and layoffs.\n",
       "- **Drones Disrupt Airports**: Danish officials report a hybrid attack involving drones that disrupted airport operations.\n",
       "\n",
       "## Additional Insights\n",
       "- **Public Sentiment**: More than half of Americans believe the country's best days are behind it, highlighting a sense of disengagement among voters.\n",
       "- **Health Report**: A new report indicates rising food insecurity in the D.C. area following federal cuts during the Trump administration.\n",
       "\n",
       "This summary encapsulates the latest developments and analyses from CNN, focusing on significant political, social, and scientific news."
      ],
      "text/plain": [
       "<IPython.core.display.Markdown object>"
      ]
     },
     "metadata": {},
     "output_type": "display_data"
    }
   ],
   "source": [
    "from website import summarize_url\n",
    "from IPython.display import Markdown, display\n",
    "\n",
    "url = \"https://edition.cnn.com/\"\n",
    "summary = summarize_url(url)\n",
    "display(Markdown(summary))"
   ]
  },
  {
   "cell_type": "code",
   "execution_count": null,
   "id": "025bce72",
   "metadata": {},
   "outputs": [],
   "source": []
  }
 ],
 "metadata": {
  "kernelspec": {
   "display_name": ".venv",
   "language": "python",
   "name": "python3"
  },
  "language_info": {
   "codemirror_mode": {
    "name": "ipython",
    "version": 3
   },
   "file_extension": ".py",
   "mimetype": "text/x-python",
   "name": "python",
   "nbconvert_exporter": "python",
   "pygments_lexer": "ipython3",
   "version": "3.11.5"
  }
 },
 "nbformat": 4,
 "nbformat_minor": 5
}
